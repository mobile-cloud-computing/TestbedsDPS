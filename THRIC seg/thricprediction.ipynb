{
 "cells": [
  {
   "cell_type": "code",
   "execution_count": 1,
   "metadata": {},
   "outputs": [],
   "source": [
    "import pickle\n",
    "import cv2\n",
    "import numpy as np\n",
    "import glob\n",
    "import os\n",
    "import shutil"
   ]
  },
  {
   "cell_type": "code",
   "execution_count": 2,
   "metadata": {},
   "outputs": [],
   "source": [
    "# Load the Saved Model back from file\n",
    "with open(\"Pickle_Model.pkl\", 'rb') as file:  \n",
    "    Model = pickle.load(file)"
   ]
  },
  {
   "cell_type": "code",
   "execution_count": 3,
   "metadata": {},
   "outputs": [],
   "source": [
    "# FUNCTION TO LOAD TEST DATA FOR PREDICTION\n",
    "def load_images(folder_path=\"\",max_examples=500):\n",
    "        \n",
    "        paths = os.listdir(folder_path)\n",
    "        if max_examples == None:\n",
    "            max_examples = len(paths)\n",
    "        else:\n",
    "            if max_examples > len(paths):\n",
    "                max_examples = len(paths)\n",
    "            else:\n",
    "                max_examples = max_examples\n",
    "        image_paths = paths[:max_examples]\n",
    "        images = []\n",
    "        for image in image_paths:\n",
    "            images.append(cv2.cvtColor(cv2.resize(cv2.imread(folder_path + \"\\\\\" + image), (224,224)), cv2.COLOR_BGR2RGB))\n",
    "        images = np.float32(images).reshape(len(images),-1)\n",
    "        #images = np.float32(images).reshape(-1,224,224,3) #use this when using imagenets\n",
    "        images /= 255\n",
    "        print(\"\\n \" + str(max_examples) + \" images from the \\\"\" + folder_path + \"\\\" folder have been loaded in a random order.\")\n",
    "        return images"
   ]
  },
  {
   "cell_type": "code",
   "execution_count": 18,
   "metadata": {},
   "outputs": [],
   "source": [
    "#FUNCTION TO STORE PREDICTED IMAGES \n",
    "def store_predicted_images(n_clusters=4,max_examples=500,folder_path=\"\"):\n",
    "    paths = os.listdir(folder_path)\n",
    "    if max_examples == None:\n",
    "        max_examples = len(paths)\n",
    "    else:\n",
    "        if max_examples > len(paths):\n",
    "            max_examples = len(paths)\n",
    "        else:\n",
    "            max_examples = max_examples\n",
    "    image_paths = paths[:max_examples]\n",
    "    try:\n",
    "        shutil.rmtree(\"output_predict\")\n",
    "    except:\n",
    "        pass\n",
    "    print(\"\\n output_predict folder created.\")\n",
    "    os.makedirs(\"output_predict\")\n",
    "    for i in range(n_clusters):\n",
    "        os.makedirs(\"output_predict\\\\cluster\" + str(i))\n",
    "    print(\"\\n Function \\\"store_predicted_images\\\" has been initialized.\")\n",
    "    for i in range(max_examples):\n",
    "            shutil.copy2(folder_path+\"\\\\\"+image_paths[i], \"output_predict\\cluster\"+str(predictions[i]))\n",
    "    print(\"\\n Prediction of Test Data complete! \\n\\n Predicted images are stored in the \\\"output_predict\\\" folder.\")\n"
   ]
  },
  {
   "cell_type": "code",
   "execution_count": 19,
   "metadata": {},
   "outputs": [
    {
     "name": "stdout",
     "output_type": "stream",
     "text": [
      "\n",
      " 83 images from the \"C:/Users/dar/Desktop/ROI/testdata\" folder have been loaded in a random order.\n"
     ]
    },
    {
     "data": {
      "text/plain": [
       "(83, 150528)"
      ]
     },
     "execution_count": 19,
     "metadata": {},
     "output_type": "execute_result"
    }
   ],
   "source": [
    "images=load_images(folder_path = \"C:/Users/dar/Desktop/ROI/testdata\")\n",
    "images.shape"
   ]
  },
  {
   "cell_type": "code",
   "execution_count": 20,
   "metadata": {},
   "outputs": [],
   "source": [
    "predictions = Model.predict(images)\n",
    "predictions1 = Model.transform(images)"
   ]
  },
  {
   "cell_type": "code",
   "execution_count": 21,
   "metadata": {},
   "outputs": [
    {
     "name": "stdout",
     "output_type": "stream",
     "text": [
      "[2 2 2 2 2 1 3 3 1 3 3 3 3 3 3 3 3 3 3 3 3 3 3 2 3 3 2 3 3 3 3 3 3 3 2 3 3\n",
      " 3 3 3 3 3 3 1 3 3 3 3 3 3 3 3 3 3 1 3 3 3 3 3 3 1 3 3 3 3 2 3 3 3 3 0 3 3\n",
      " 3 1 3 1 3 1 3 0 1]\n",
      "[[223.72206  275.3696   157.99107  222.1683  ]\n",
      " [238.86504  255.72191  148.93759  185.10664 ]\n",
      " [279.40726  294.14603  225.53839  291.14847 ]\n",
      " [260.73993  219.70769  181.11906  198.13568 ]\n",
      " [288.66028  303.7693   216.55243  295.67938 ]\n",
      " [238.5245   121.584045 239.36049  148.92856 ]\n",
      " [256.03745  197.53972  253.93127  192.21571 ]\n",
      " [210.11949  134.13069  217.2479   118.07633 ]\n",
      " [243.43034  135.4733   231.77995  152.40974 ]\n",
      " [252.2904   172.70825  225.24106  163.16563 ]\n",
      " [248.16754  209.67433  200.68471  178.20161 ]\n",
      " [250.21002  222.84172  184.35985  171.4892  ]\n",
      " [224.5288   176.1824   211.30879  149.32881 ]\n",
      " [221.9861   160.98907  194.33688   72.47952 ]\n",
      " [235.0253   166.78944  203.56502  131.01598 ]\n",
      " [238.39796  175.43709  213.40254  148.51183 ]\n",
      " [214.23083  166.51135  189.26997   81.975136]\n",
      " [232.77864  146.91779  221.81688  140.46329 ]\n",
      " [237.31367  216.45529  188.86444  184.2222  ]\n",
      " [214.18071  206.76114  196.7761   181.17249 ]\n",
      " [211.21637  176.01314  175.83037   82.48852 ]\n",
      " [222.5991   153.48828  211.72899  124.832565]\n",
      " [198.69962  171.3037   207.34311  155.48387 ]\n",
      " [201.486    252.15462   98.55907  164.97711 ]\n",
      " [234.68665  167.86427  206.97566  124.7544  ]\n",
      " [247.74751  176.96342  191.37912  125.116   ]\n",
      " [192.87257  258.02533   91.800865 173.36012 ]\n",
      " [219.20361  146.28017  214.97499  122.146324]\n",
      " [245.45073  179.58096  188.31676  131.62518 ]\n",
      " [236.6442   163.19614  203.06326  105.15501 ]\n",
      " [229.39867  160.96143  203.14969  114.22272 ]\n",
      " [208.0315   159.45314  212.37494  142.7502  ]\n",
      " [207.59497  153.96007  212.68518  134.06683 ]\n",
      " [200.89766  162.12686  213.65514  149.82938 ]\n",
      " [195.15855  280.99188   84.04542  206.19748 ]\n",
      " [233.02512  155.24596  215.42592  125.54388 ]\n",
      " [223.0358   149.18245  215.71681  131.82884 ]\n",
      " [216.61717  158.71457  207.88081  125.45969 ]\n",
      " [208.36682  159.68889  204.93376  118.17855 ]\n",
      " [210.86273  166.65984  205.2007   141.83011 ]\n",
      " [210.86273  166.65984  205.2007   141.83011 ]\n",
      " [199.07997  173.83652  189.03055  146.1209  ]\n",
      " [216.3713   149.97017  218.50124  130.48434 ]\n",
      " [211.97926  149.26369  230.63818  152.90254 ]\n",
      " [228.39493  153.56392  213.64009  122.232025]\n",
      " [215.27025  147.41187  226.01865  146.52306 ]\n",
      " [218.06815  149.64166  217.29823  121.31926 ]\n",
      " [218.54842  165.15973  208.9316   139.23595 ]\n",
      " [210.89687  149.77751  217.83961  139.3716  ]\n",
      " [212.10202  152.59448  198.33484  103.90623 ]\n",
      " [221.17897  153.98747  204.95992  116.86958 ]\n",
      " [219.88103  150.09499  220.3136   127.32263 ]\n",
      " [220.34895  156.16252  206.52963  120.79489 ]\n",
      " [223.10251  135.41599  229.84026  127.81087 ]\n",
      " [232.61218  135.32027  230.3028   141.26543 ]\n",
      " [214.14899  133.2163   229.07094  127.21581 ]\n",
      " [224.53017  155.0278   218.61754  133.25285 ]\n",
      " [230.89072  158.1058   205.78844  114.95786 ]\n",
      " [213.23573  171.46576  209.38905  131.90688 ]\n",
      " [210.9386   151.92166  218.47037  133.98347 ]\n",
      " [215.37257  145.48938  218.16914  118.64953 ]\n",
      " [245.63786  124.20924  247.502    179.19736 ]\n",
      " [262.41995  200.59534  199.46956  188.91693 ]\n",
      " [240.63963  154.28358  206.83536  144.74965 ]\n",
      " [225.38486  142.99075  204.85313   76.24109 ]\n",
      " [209.41457  199.23529  179.09416  152.92259 ]\n",
      " [199.77026  226.1619   125.35063  125.95804 ]\n",
      " [224.9352   155.66867  197.32556  107.24066 ]\n",
      " [236.81859  157.0976   200.6009   122.24396 ]\n",
      " [199.93353  173.6592   180.11153  101.053154]\n",
      " [201.65532  134.67433  213.661    123.25267 ]\n",
      " [146.35382  212.37741  231.78331  204.63629 ]\n",
      " [205.4169   191.24588  183.8319   155.65433 ]\n",
      " [253.55647  181.8364   183.1804   173.12102 ]\n",
      " [204.2073   205.26682  162.42061  143.52487 ]\n",
      " [232.06439  118.48884  230.21167  125.90676 ]\n",
      " [227.47786  186.216    212.23593  129.33606 ]\n",
      " [223.95695  138.25656  236.54277  144.19183 ]\n",
      " [207.5591   150.3734   201.8631   112.84703 ]\n",
      " [222.0978   108.70413  225.76855  138.55307 ]\n",
      " [217.02383  192.39706  155.32538   92.099434]\n",
      " [179.32639  203.68547  192.95131  180.1167  ]\n",
      " [201.92326  121.913216 225.32661  139.46283 ]]\n"
     ]
    }
   ],
   "source": [
    "print(predictions)\n",
    "print(predictions1)"
   ]
  },
  {
   "cell_type": "code",
   "execution_count": 22,
   "metadata": {},
   "outputs": [
    {
     "name": "stdout",
     "output_type": "stream",
     "text": [
      "\n",
      " output_predict folder created.\n",
      "\n",
      " Function \"store_predicted_images\" has been initialized.\n",
      "\n",
      " Prediction of Test Data complete! \n",
      "\n",
      " Predicted images are stored in the \"output_predict\" folder.\n"
     ]
    }
   ],
   "source": [
    "store_predicted_images(folder_path = \"C:/Users/dar/Desktop/ROI/testdata\")"
   ]
  },
  {
   "cell_type": "code",
   "execution_count": null,
   "metadata": {},
   "outputs": [],
   "source": []
  }
 ],
 "metadata": {
  "kernelspec": {
   "display_name": "Python 3",
   "language": "python",
   "name": "python3"
  },
  "language_info": {
   "codemirror_mode": {
    "name": "ipython",
    "version": 3
   },
   "file_extension": ".py",
   "mimetype": "text/x-python",
   "name": "python",
   "nbconvert_exporter": "python",
   "pygments_lexer": "ipython3",
   "version": "3.7.4"
  }
 },
 "nbformat": 4,
 "nbformat_minor": 2
}
