{
 "cells": [
  {
   "cell_type": "code",
   "execution_count": 1,
   "metadata": {},
   "outputs": [],
   "source": [
    "import pickle\n",
    "import cv2\n",
    "import numpy as np\n",
    "import glob"
   ]
  },
  {
   "cell_type": "code",
   "execution_count": 2,
   "metadata": {},
   "outputs": [],
   "source": [
    "# Load the Model back from file\n",
    "with open(\"Pickle_Model.pkl\", 'rb') as file:  \n",
    "    Model = pickle.load(file)"
   ]
  },
  {
   "cell_type": "code",
   "execution_count": 3,
   "metadata": {},
   "outputs": [],
   "source": [
    "data_path = \"C:/Users/dar/Desktop/ROI\""
   ]
  },
  {
   "cell_type": "code",
   "execution_count": 29,
   "metadata": {},
   "outputs": [],
   "source": [
    "filelist=glob.glob('./ROI/*.png')\n",
    "images = []\n",
    "for image in filelist:\n",
    "    images.append(cv2.cvtColor(cv2.resize(cv2.imread(image), (224,224)), cv2.COLOR_BGR2RGB))\n",
    "#print (images)\n",
    "#images = np.float32(images).reshape(len(images),-1)\n",
    "images = np.float32(images).reshape(-1,25088) #use this when using imagenets\n",
    "images /= 255"
   ]
  },
  {
   "cell_type": "code",
   "execution_count": 30,
   "metadata": {},
   "outputs": [],
   "source": [
    "predictions = Model.predict(images)\n",
    "predictions1 = Model.transform(images)"
   ]
  },
  {
   "cell_type": "code",
   "execution_count": 25,
   "metadata": {},
   "outputs": [
    {
     "name": "stdout",
     "output_type": "stream",
     "text": [
      "[1 1 2 ... 1 1 1]\n"
     ]
    }
   ],
   "source": [
    "print(predictions)"
   ]
  },
  {
   "cell_type": "code",
   "execution_count": 24,
   "metadata": {},
   "outputs": [
    {
     "name": "stdout",
     "output_type": "stream",
     "text": [
      "[[ 83.03073   79.489944  83.4031    80.9497  ]\n",
      " [100.66654   98.812195 100.92077   99.67485 ]\n",
      " [128.79103  128.88243  128.63344  128.8955  ]\n",
      " ...\n",
      " [ 91.25111   88.5349    91.397194  89.66759 ]\n",
      " [ 93.472084  90.976715  93.83782   92.07311 ]\n",
      " [ 87.8848    85.05954   88.229294  86.22446 ]]\n"
     ]
    }
   ],
   "source": [
    "print(predictions1)"
   ]
  },
  {
   "cell_type": "code",
   "execution_count": null,
   "metadata": {},
   "outputs": [],
   "source": []
  }
 ],
 "metadata": {
  "kernelspec": {
   "display_name": "Python 3",
   "language": "python",
   "name": "python3"
  },
  "language_info": {
   "codemirror_mode": {
    "name": "ipython",
    "version": 3
   },
   "file_extension": ".py",
   "mimetype": "text/x-python",
   "name": "python",
   "nbconvert_exporter": "python",
   "pygments_lexer": "ipython3",
   "version": "3.7.4"
  }
 },
 "nbformat": 4,
 "nbformat_minor": 2
}
